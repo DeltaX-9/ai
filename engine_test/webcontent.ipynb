{
 "cells": [
  {
   "cell_type": "code",
   "execution_count": 1,
   "metadata": {},
   "outputs": [],
   "source": [
    "from llama_index import download_loader\n",
    "from llama_index.llms import AzureOpenAI\n",
    "from llama_index.embeddings import AzureOpenAIEmbedding\n",
    "from llama_index import VectorStoreIndex, SimpleDirectoryReader, ServiceContext\n",
    "from bs4 import BeautifulSoup\n",
    "import logging\n",
    "import sys\n",
    "\n",
    "SimpleWebPageReader = download_loader(\"SimpleWebPageReader\")\n",
    "MarkdownReader = download_loader(\"MarkdownReader\")\n",
    "\n"
   ]
  },
  {
   "cell_type": "code",
   "execution_count": 2,
   "metadata": {},
   "outputs": [],
   "source": [
    "api_key = \"f0041499023d4093b7c65ce0add41a6c\"\n",
    "azure_endpoint = \"https://alphabetagamma.openai.azure.com/\"\n",
    "api_version = \"2023-07-01-preview\""
   ]
  },
  {
   "cell_type": "code",
   "execution_count": 8,
   "metadata": {},
   "outputs": [],
   "source": [
    "embed_model = AzureOpenAIEmbedding(\n",
    "    model=\"text-embedding-ada-002\",\n",
    "    deployment_name=\"text-embedding-ada-002\",\n",
    "    api_key=api_key,\n",
    "    azure_endpoint=azure_endpoint,\n",
    "    api_version=api_version,\n",
    ")\n",
    "\n",
    "llm = AzureOpenAI(\n",
    "    model=\"gpt-35-turbo\",\n",
    "    deployment_name=\"gpt-35-turbo\",\n",
    "    api_key=api_key,\n",
    "    azure_endpoint=azure_endpoint,\n",
    "    api_version=api_version,\n",
    ")"
   ]
  },
  {
   "cell_type": "code",
   "execution_count": 9,
   "metadata": {},
   "outputs": [],
   "source": [
    "from llama_index import set_global_service_context\n",
    "\n",
    "service_context = ServiceContext.from_defaults(\n",
    "    llm=llm,\n",
    "    embed_model=embed_model,\n",
    ")\n"
   ]
  },
  {
   "cell_type": "code",
   "execution_count": 1,
   "metadata": {},
   "outputs": [],
   "source": [
    "# from bs4 import BeautifulSoup\n",
    "# from html2text import HTML2Text\n",
    "# from llama_index.readers import StringIterableReader\n",
    "# html_file = open(\"./webcontent/test.html\", \"r\")\n",
    "# soup = BeautifulSoup(html_file, 'html.parser')\n",
    "\n",
    "\n",
    "# html2text_converter = HTML2Text()\n",
    "\n",
    "\n",
    "# plain_text = html2text_converter.handle(str(soup))\n",
    "# reader = StringIterableReader()\n",
    "# documents = reader.load_data(texts=plain_text)\n",
    "# print(plain_text)\n",
    "# index = VectorStoreIndex.from_documents(documents,service_context=service_context)"
   ]
  },
  {
   "cell_type": "code",
   "execution_count": 2,
   "metadata": {},
   "outputs": [
    {
     "ename": "NameError",
     "evalue": "name 'SimpleWebPageReader' is not defined",
     "output_type": "error",
     "traceback": [
      "\u001b[0;31m---------------------------------------------------------------------------\u001b[0m",
      "\u001b[0;31mNameError\u001b[0m                                 Traceback (most recent call last)",
      "Cell \u001b[0;32mIn[2], line 1\u001b[0m\n\u001b[0;32m----> 1\u001b[0m loader \u001b[38;5;241m=\u001b[39m \u001b[43mSimpleWebPageReader\u001b[49m(html_to_text\u001b[38;5;241m=\u001b[39m\u001b[38;5;28;01mTrue\u001b[39;00m)\n\u001b[1;32m      2\u001b[0m documents \u001b[38;5;241m=\u001b[39m loader\u001b[38;5;241m.\u001b[39mload_data(urls\u001b[38;5;241m=\u001b[39m[\u001b[38;5;124m\"\u001b[39m\u001b[38;5;124mhttps://webscraper.io/test-sites/e-commerce/allinone\u001b[39m\u001b[38;5;124m\"\u001b[39m])\n\u001b[1;32m      3\u001b[0m index \u001b[38;5;241m=\u001b[39m VectorStoreIndex\u001b[38;5;241m.\u001b[39mfrom_documents(documents,service_context\u001b[38;5;241m=\u001b[39mservice_context)\n",
      "\u001b[0;31mNameError\u001b[0m: name 'SimpleWebPageReader' is not defined"
     ]
    }
   ],
   "source": [
    "loader = SimpleWebPageReader(html_to_text=True)\n",
    "documents = loader.load_data(urls=[\"https://webscraper.io/test-sites/e-commerce/allinone\"])\n",
    "index = VectorStoreIndex.from_documents(documents,service_context=service_context)\n",
    "\n",
    "\n",
    "\n",
    "\n",
    "# index = VectorStoreIndex.from_documents(documents,service_context=service_context)"
   ]
  },
  {
   "cell_type": "code",
   "execution_count": 78,
   "metadata": {},
   "outputs": [],
   "source": [
    "UnstructuredURLLoader = download_loader(\"UnstructuredURLLoader\")\n",
    "urls = [\n",
    "     \"https://www.understandingwar.org/backgrounder/russian-offensive-campaign-assessment-february-8-2023\",\n",
    "     \"https://www.understandingwar.org/backgrounder/russian-offensive-campaign-assessment-february-9-2023\",\n",
    "]\n",
    "\n",
    "loader = UnstructuredURLLoader(urls=urls, continue_on_failure=False, headers={\"User-Agent\": \"value\"})\n",
    "documents = loader.load_data()\n",
    "index = VectorStoreIndex.from_documents(documents,service_context=service_context)\n"
   ]
  },
  {
   "cell_type": "code",
   "execution_count": 7,
   "metadata": {},
   "outputs": [
    {
     "name": "stdout",
     "output_type": "stream",
     "text": [
      "> Source (Doc id: 5f5bff6a-0775-43a0-8b37-14da845553ef): Toggle navigation\n",
      "\n",
      "[![Web Scraper](/img/logo_white.svg)](/)\n",
      "\n",
      "  * [\n",
      "\n",
      "Web Scraper\n",
      "\n",
      "](/)\n",
      "\n",
      "  * [\n",
      "\n",
      "Clo...\n",
      "query was: List the Products that are in the category Medical?\n",
      "answer was: The website does not contain any information about products in the category Medical.\n"
     ]
    }
   ],
   "source": [
    "query = \"List the Products that are in the category Medical?\"\n",
    "query_engine = index.as_query_engine()\n",
    "answer = query_engine.query(query)\n",
    "\n",
    "print(answer.get_formatted_sources())\n",
    "print(\"query was:\", query)\n",
    "print(\"answer was:\", answer)"
   ]
  },
  {
   "cell_type": "code",
   "execution_count": null,
   "metadata": {},
   "outputs": [],
   "source": []
  }
 ],
 "metadata": {
  "kernelspec": {
   "display_name": "deltax9-ds",
   "language": "python",
   "name": "python3"
  },
  "language_info": {
   "codemirror_mode": {
    "name": "ipython",
    "version": 3
   },
   "file_extension": ".py",
   "mimetype": "text/x-python",
   "name": "python",
   "nbconvert_exporter": "python",
   "pygments_lexer": "ipython3",
   "version": "3.11.5"
  }
 },
 "nbformat": 4,
 "nbformat_minor": 2
}
