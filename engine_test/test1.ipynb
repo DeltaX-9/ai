{
 "cells": [
  {
   "cell_type": "code",
   "execution_count": 3,
   "metadata": {},
   "outputs": [
    {
     "name": "stdout",
     "output_type": "stream",
     "text": [
      "# [eugeneyan](/)\n",
      "\n",
      "  * [Start Here](/start-here/ \"Start Here\")\n",
      "  * [Writing](/writing/ \"Writing\")\n",
      "  * [Speaking](/speaking/ \"Speaking\")\n",
      "  * [Prototyping](/prototyping/ \"Prototyping\")\n",
      "  * [About](/about/ \"About\")\n",
      "\n",
      "# Patterns for Building LLM-based Systems & Products\n",
      "\n",
      "[ [llm](/tag/llm/) [engineering](/tag/engineering/)\n",
      "[production](/tag/production/) [🔥](/tag/🔥/) ]  · 66 min read\n",
      "\n",
      "> Discussions on [Ha\n"
     ]
    }
   ],
   "source": [
    "from llama_index.readers import download_loader\n",
    "\n",
    "# Load the SimpleWebPageReader\n",
    "SimpleWebPageReader = download_loader(\"SimpleWebPageReader\")\n",
    "\n",
    "# Initialize the reader\n",
    "reader = SimpleWebPageReader(html_to_text=True)\n",
    "\n",
    "# Load data from a single URL\n",
    "docs = reader.load_data(urls=[\"https://eugeneyan.com/writing/llm-patterns/\"])\n",
    "\n",
    "# Print the first 400 characters of the loaded content\n",
    "print(docs[0].get_content()[:400])"
   ]
  }
 ],
 "metadata": {
  "kernelspec": {
   "display_name": "deltax9-ds",
   "language": "python",
   "name": "python3"
  },
  "language_info": {
   "codemirror_mode": {
    "name": "ipython",
    "version": 3
   },
   "file_extension": ".py",
   "mimetype": "text/x-python",
   "name": "python",
   "nbconvert_exporter": "python",
   "pygments_lexer": "ipython3",
   "version": "3.11.5"
  }
 },
 "nbformat": 4,
 "nbformat_minor": 2
}
